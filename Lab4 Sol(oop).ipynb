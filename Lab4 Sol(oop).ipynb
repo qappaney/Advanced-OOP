{
 "cells": [
  {
   "cell_type": "code",
   "execution_count": 19,
   "id": "971201de-63ff-4c52-9fb0-f92685309a5a",
   "metadata": {},
   "outputs": [],
   "source": [
    "class Person:\n",
    "    def __init__(self, name, money, mood, healthRate):\n",
    "        self.name = name\n",
    "        self.money = money\n",
    "        self.mood = mood\n",
    "        self.healthRate = healthRate\n",
    "\n",
    "    def sleep(self, hours):\n",
    "        if hours < 7:\n",
    "            self.mood = \"Tired\"\n",
    "        elif hours == 7:\n",
    "            self.mood = \"Happy\"\n",
    "        else:\n",
    "            self.mood = \"Lazy\"\n",
    "\n",
    "    def eat(self, meals):\n",
    "        if meals == 1:\n",
    "            self.healthRate =  \"50% health\"\n",
    "        elif meals == 2:\n",
    "            self.healthRate =  \"75% health\"\n",
    "        elif meals == 3:\n",
    "            self.healthRate =  \"100% health\"\n",
    "       \n",
    "\n",
    "    def buy(self, items):\n",
    "        self.money -= items * 10 \n"
   ]
  },
  {
   "cell_type": "code",
   "execution_count": 20,
   "id": "fef3772d-fd79-4ecb-87dc-22e1990226f3",
   "metadata": {},
   "outputs": [],
   "source": [
    "class Employee(Person):\n",
    "    def __init__(self, name, money, mood, healthRate, id, car, email, salary, distanceToWork):\n",
    "        super().__init__(name, money, mood, healthRate)\n",
    "        self.id = id\n",
    "        self.car = car\n",
    "        self.email = email\n",
    "        self.salary = salary\n",
    "        self.distanceToWork = distanceToWork\n",
    "\n",
    "    def work(self, hours):\n",
    "        if hours == 8:\n",
    "            self.mood = \"happy\"\n",
    "        elif hours > 8:\n",
    "            self.mood = \"tired\"\n",
    "        else:\n",
    "            self.mood = \"lazy\"\n",
    "        \n",
    "\n",
    "    def drive(self, distance):\n",
    "        self.car.run(self.car.velocity, distance)\n",
    "\n",
    "    def refuel(self, gasAmount=100):\n",
    "        self.car.fuelRate += gasAmount\n",
    "        if self.car.fuelRate > 100:\n",
    "            self.car.fuelRate = 100\n",
    "\n",
    " #   def send_mail(self, recipient, subject, message):\n",
    "  #      return f\"Email sent to {recipient} with subject '{subject}'.\"\n",
    "\n"
   ]
  },
  {
   "cell_type": "code",
   "execution_count": 21,
   "id": "03661013-ea8f-4902-b4a1-d2b909691fdf",
   "metadata": {},
   "outputs": [],
   "source": [
    "class Car:\n",
    "    def __init__(self, name, fuelRate, velocity):\n",
    "        self.name = name\n",
    "        self._fuelRate = max(0, min(fuelRate, 100))\n",
    "        self._velocity = max(0, min(velocity, 200))\n",
    "\n",
    "    @property\n",
    "    def velocity(self):\n",
    "        return self._velocity\n",
    "\n",
    "    @velocity.setter\n",
    "    def velocity(self, value):\n",
    "        self._velocity = max(0, min(value, 200))\n",
    "\n",
    "    @property\n",
    "    def fuelRate(self):\n",
    "        return self._fuelRate\n",
    "\n",
    "    @fuelRate.setter\n",
    "    def fuelRate(self, value):\n",
    "        self._fuelRate = max(0, min(value, 100))\n",
    "\n",
    "    def run(self, velocity, distance):\n",
    "        self.velocity = velocity\n",
    "        while distance > 0 and self.fuelRate > 0:\n",
    "            distance -= self.velocity\n",
    "            self.fuelRate -= 10 \n",
    "        if self.fuelRate <= 0:\n",
    "            self.stop(distance)\n",
    "\n",
    "    def stop(self, remaining_distance):\n",
    "        self.velocity = 0\n",
    "        print(f\"Car stopped. Remaining distance: {remaining_distance}\")"
   ]
  },
  {
   "cell_type": "code",
   "execution_count": 22,
   "id": "56665d68-67ae-4d8e-a59f-14ee8d459244",
   "metadata": {},
   "outputs": [],
   "source": [
    "class Office:\n",
    "    employeesNum = 0\n",
    "    \n",
    "    def __init__(self, name):\n",
    "        self.name = name\n",
    "        self.employees = []\n",
    "    \n",
    "    def get_all_employees(self):\n",
    "        return self.employees\n",
    "\n",
    "    def get_employee(self, empId):\n",
    "        for emp in self.employees:\n",
    "            if emp.id == empId:\n",
    "                return emp\n",
    "        return None\n",
    "\n",
    "    def hire(self, employee):\n",
    "        self.employees.append(employee)\n",
    "        Office.employeesNum += 1\n",
    "\n",
    "    def fire(self, empId):\n",
    "        new_list = []\n",
    "        for employee in self.employees:\n",
    "            if employee.id != empId:\n",
    "                new_list.append(employee)\n",
    "        self.employees = new_list\n",
    "        Office.employeesNum -= 1\n",
    "\n",
    "    def deduct(self, empId, deduction):\n",
    "        emp = self.get_employee(empId)\n",
    "        if emp:\n",
    "            emp.salary -= deduction\n",
    "\n",
    "    def reward(self, empId, reward):\n",
    "        emp = self.get_employee(empId)\n",
    "        if emp:\n",
    "            emp.salary += reward\n",
    "\n",
    "    def check_lateness(self, empId, moveHour):\n",
    "        emp = self.get_employee(empId)\n",
    "        if emp:\n",
    "            if moveHour > 9:\n",
    "                self.deduct(empId, 10)\n",
    "            else:\n",
    "                self.reward(empId, 10)\n",
    "    \n",
    "    @staticmethod\n",
    "    def calculate_lateness(targetHour, moveHour, distance, velocity):\n",
    "        arrival_time = moveHour + (distance / velocity)\n",
    "        return arrival_time > targetHour\n",
    "    \n",
    "    @classmethod\n",
    "    def change_emps_num(cls, num):\n",
    "        cls.employeesNum = num"
   ]
  },
  {
   "cell_type": "code",
   "execution_count": 61,
   "id": "03650caa-4cd2-4b57-8737-d4626d4f8376",
   "metadata": {},
   "outputs": [],
   "source": [
    "samy = Employee(\n",
    "    name=\"Samy\", \n",
    "    money=5000, \n",
    "    mood=\"neutral\", \n",
    "    healthRate=\"100%\", \n",
    "    id=1, \n",
    "    car=samy_car, \n",
    "    email=\"samy@example.com\", \n",
    "    salary=10000, \n",
    "    distanceToWork=30\n",
    ")\n",
    "\n",
    "\n",
    "samy_car = Car(name=\"Fiat 128\", fuelRate=80, velocity=60)\n",
    "\n",
    "iti_office = Office(name=\"ITI\")\n",
    "iti_office.hire(samy)"
   ]
  },
  {
   "cell_type": "code",
   "execution_count": 62,
   "id": "41b723fb-9645-4dd6-991b-6d0eb27dedaf",
   "metadata": {},
   "outputs": [
    {
     "name": "stdout",
     "output_type": "stream",
     "text": [
      "Number of employees in ITI Smart Village: 3\n"
     ]
    }
   ],
   "source": [
    "iti_office.hire(samy)\n",
    "print(f\"Number of employees in ITI Smart Village: {Office.employeesNum}\")"
   ]
  },
  {
   "cell_type": "code",
   "execution_count": 63,
   "id": "737f928b-775b-4288-bf34-b0b3ea3baf47",
   "metadata": {},
   "outputs": [
    {
     "name": "stdout",
     "output_type": "stream",
     "text": [
      "Samy's mood after work: tired\n"
     ]
    }
   ],
   "source": [
    "samy.work(10)\n",
    "print(f\"Samy's mood after work: {samy.mood}\")"
   ]
  },
  {
   "cell_type": "code",
   "execution_count": 64,
   "id": "27f929f1-fbbf-4d81-8dac-7af6cadc9420",
   "metadata": {},
   "outputs": [
    {
     "name": "stdout",
     "output_type": "stream",
     "text": [
      "Samy's fuel rate after driving: 70\n"
     ]
    }
   ],
   "source": [
    "samy.drive(samy.distanceToWork)\n",
    "print(f\"Samy's fuel rate after driving: {samy.car.fuelRate}\")"
   ]
  },
  {
   "cell_type": "code",
   "execution_count": 65,
   "id": "d3835337-f2a1-4150-b3a7-da452dba01e8",
   "metadata": {},
   "outputs": [
    {
     "name": "stdout",
     "output_type": "stream",
     "text": [
      "Samy's fuel rate after refueling: 100\n"
     ]
    }
   ],
   "source": [
    "samy.refuel()\n",
    "print(f\"Samy's fuel rate after refueling: {samy.car.fuelRate}\")"
   ]
  },
  {
   "cell_type": "code",
   "execution_count": 85,
   "id": "d823eec0-1edf-484b-b051-fc519b7b2f71",
   "metadata": {},
   "outputs": [
    {
     "name": "stdout",
     "output_type": "stream",
     "text": [
      "Samy is on time!\n",
      "Samy's salary after lateness check: 10030\n"
     ]
    }
   ],
   "source": [
    "moveHour = 8\n",
    "targetHour = 9\n",
    "is_late = Office.calculate_lateness(targetHour, moveHour, samy.distanceToWork, samy.car.velocity)\n",
    "\n",
    "if is_late:\n",
    "    print(f\"{samy.name} is late!\")\n",
    "    iti_office.deduct(samy.id, 10)\n",
    "else:\n",
    "    print(f\"{samy.name} is on time!\")\n",
    "    iti_office.reward(samy.id, 10)\n",
    "\n",
    "print(f\"Samy's salary after lateness check: {samy.salary}\")"
   ]
  },
  {
   "cell_type": "code",
   "execution_count": null,
   "id": "edcbc82e-4a9c-4e77-b574-9e2ee88b5aae",
   "metadata": {},
   "outputs": [],
   "source": []
  }
 ],
 "metadata": {
  "kernelspec": {
   "display_name": "Python 3 (ipykernel)",
   "language": "python",
   "name": "python3"
  },
  "language_info": {
   "codemirror_mode": {
    "name": "ipython",
    "version": 3
   },
   "file_extension": ".py",
   "mimetype": "text/x-python",
   "name": "python",
   "nbconvert_exporter": "python",
   "pygments_lexer": "ipython3",
   "version": "3.13.1"
  }
 },
 "nbformat": 4,
 "nbformat_minor": 5
}
